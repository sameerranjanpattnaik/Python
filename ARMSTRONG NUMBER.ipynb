{
 "cells": [
  {
   "cell_type": "code",
   "execution_count": 4,
   "metadata": {},
   "outputs": [
    {
     "name": "stdout",
     "output_type": "stream",
     "text": [
      "ENTER THE NUMBER TO BE CHECKED: 407\n",
      "IT IS AN ARMSTRONG NUMBER\n"
     ]
    }
   ],
   "source": [
    "#Python Program to Check Armstrong Number (for 3 digits)\n",
    "num=int(input(\"ENTER THE NUMBER TO BE CHECKED: \"))\n",
    "sum=0\n",
    "a=num\n",
    "while num>0:\n",
    "    digit=num%10\n",
    "    sum=sum+(digit*digit*digit)\n",
    "    num=num//10\n",
    "if a==sum:\n",
    "    print(\"IT IS AN ARMSTRONG NUMBER\")\n",
    "else:\n",
    "    print(\"IT IS NOT AN ARMSTRONG NUMBER\")"
   ]
  }
 ],
 "metadata": {
  "kernelspec": {
   "display_name": "Python 3",
   "language": "python",
   "name": "python3"
  },
  "language_info": {
   "codemirror_mode": {
    "name": "ipython",
    "version": 3
   },
   "file_extension": ".py",
   "mimetype": "text/x-python",
   "name": "python",
   "nbconvert_exporter": "python",
   "pygments_lexer": "ipython3",
   "version": "3.7.4"
  }
 },
 "nbformat": 4,
 "nbformat_minor": 2
}
