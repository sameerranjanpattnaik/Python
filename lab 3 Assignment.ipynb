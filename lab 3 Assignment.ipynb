{
 "cells": [
  {
   "cell_type": "code",
   "execution_count": 10,
   "metadata": {},
   "outputs": [
    {
     "name": "stdout",
     "output_type": "stream",
     "text": [
      "{'vk': 32, 'msd': 39, 'ash': 34, 'bhuvi': 31, 'jaddu': 32, 'hardik': 27}\n"
     ]
    }
   ],
   "source": [
    "#dictionary\n",
    "batsman={'vk':32,'msd':39}\n",
    "bowlers={'ash':34,'bhuvi':31}\n",
    "allrounders={'jaddu':32,'hardik':27}\n",
    "bowlers.update(allrounders)\n",
    "batsman.update(bowlers)\n",
    "print(batsman)"
   ]
  },
  {
   "cell_type": "code",
   "execution_count": 15,
   "metadata": {},
   "outputs": [
    {
     "name": "stdout",
     "output_type": "stream",
     "text": [
      "Name:Sameer \n",
      "Address:Hill Town \n",
      "State:Odisha \n",
      "\n"
     ]
    }
   ],
   "source": [
    "#Create a dictionary of address using \"name\", \"address\", \"street\", \"state\" and print all the values using string formater\n",
    "d = {\"name\":\"Sameer\", \"address\":\"Hill Town\",  \"state\":\"Odisha\"}\n",
    "print(\"Name:{} \\nAddress:{} \\nState:{} \\n\".format(d[\"name\"], d[\"address\"], d[\"state\"]))\n"
   ]
  },
  {
   "cell_type": "code",
   "execution_count": 17,
   "metadata": {},
   "outputs": [
    {
     "name": "stdout",
     "output_type": "stream",
     "text": [
      "1200\n"
     ]
    }
   ],
   "source": [
    " #Write a program to multiply all elements of dictionary \n",
    "FruitDict = {'Apple': 10, 'banana': 5,'orange':4,'Guava':6}\n",
    "m=1\n",
    "for i in FruitDict:    \n",
    "    m=m*FruitDict[i]\n",
    "print(m)"
   ]
  },
  {
   "cell_type": "code",
   "execution_count": 40,
   "metadata": {},
   "outputs": [
    {
     "name": "stdout",
     "output_type": "stream",
     "text": [
      "ENTER THE NO. OF ENTRIES IN THE DICTIONARY2\n",
      "r\n",
      "3\n",
      "g\n",
      "5\n",
      "{'r': 3, 'g': 5}\n",
      "ENTER THE ELEMENT TO BE CHECKEDg\n",
      "g=5\n"
     ]
    }
   ],
   "source": [
    "#Create a user input dictionary having two key:value pair and check whether one of the key given by you is pesent in the dictionary \n",
    "d={}\n",
    "x=int(input(\"ENTER THE NO. OF ENTRIES IN THE DICTIONARY\"))\n",
    "for i in range(x):\n",
    "    key=input()\n",
    "    value=int(input())\n",
    "    d[key]=value\n",
    "print(d)\n",
    "check=input(\"ENTER THE ELEMENT TO BE CHECKED\")\n",
    "if check in d.keys():\n",
    "    print(f\"{check}={d[check]}\")\n",
    "    \n",
    "  \n",
    "\n"
   ]
  },
  {
   "cell_type": "code",
   "execution_count": 25,
   "metadata": {},
   "outputs": [
    {
     "name": "stdout",
     "output_type": "stream",
     "text": [
      "Sorted List:\n",
      "[('Sst', 82), ('Eng', 88), ('Sci', 90), ('Maths', 97)]\n"
     ]
    }
   ],
   "source": [
    "#Write a Python program to sort a list of tuples using Lambda. \n",
    "dict1 =  [('Eng', 88), ('Sci', 90), ('Maths', 97), ('Sst', 82)]\n",
    "dict1.sort(key = lambda x: x[1])\n",
    "print(\"Sorted List:\")\n",
    "print(dict1)"
   ]
  },
  {
   "cell_type": "code",
   "execution_count": 42,
   "metadata": {},
   "outputs": [
    {
     "name": "stdout",
     "output_type": "stream",
     "text": [
      "enter a:8\n",
      "enter b:9\n"
     ]
    },
    {
     "data": {
      "text/plain": [
       "'no condition is satified'"
      ]
     },
     "execution_count": 42,
     "metadata": {},
     "output_type": "execute_result"
    }
   ],
   "source": [
    "#Define a function with two arguments a and b. Check if a is equal to 1 then return 'coming from if',\n",
    "#check if b is equal to 1 ,then return 'coming from elif' otherwise return 'no condition is satisfied'\n",
    "def func(a,b):\n",
    "     if a==1:\n",
    "        return \"Coming from if\"\n",
    "     elif b==1:\n",
    "        return \"coming from elif\"\n",
    "     else:\n",
    "        return \"no condition is satified\"\n",
    "a=int(input(\"enter a:\"))\n",
    "b=int(input(\"enter b:\"))\n",
    "func(a,b)\n"
   ]
  }
 ],
 "metadata": {
  "kernelspec": {
   "display_name": "Python 3",
   "language": "python",
   "name": "python3"
  },
  "language_info": {
   "codemirror_mode": {
    "name": "ipython",
    "version": 3
   },
   "file_extension": ".py",
   "mimetype": "text/x-python",
   "name": "python",
   "nbconvert_exporter": "python",
   "pygments_lexer": "ipython3",
   "version": "3.7.4"
  }
 },
 "nbformat": 4,
 "nbformat_minor": 2
}
