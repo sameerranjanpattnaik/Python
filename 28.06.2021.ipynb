{
 "cells": [
  {
   "cell_type": "code",
   "execution_count": 1,
   "metadata": {},
   "outputs": [
    {
     "name": "stdout",
     "output_type": "stream",
     "text": [
      "ENTER THE FIRST ELEMENT:2\n",
      "ENTER THE SECOND ELEMENT:5\n",
      "10\n"
     ]
    }
   ],
   "source": [
    "#Python Program to Find LCM\n",
    "x=int(input(\"ENTER THE FIRST ELEMENT:\"))\n",
    "y=int(input(\"ENTER THE SECOND ELEMENT:\"))\n",
    "if x>y:\n",
    "    max=x\n",
    "else:\n",
    "    max=y\n",
    "while(True):\n",
    "    if((max%x==0)and(max%y==0)):\n",
    "        print(max)\n",
    "        break;\n",
    "    max=max+1"
   ]
  },
  {
   "cell_type": "code",
   "execution_count": 6,
   "metadata": {},
   "outputs": [
    {
     "name": "stdout",
     "output_type": "stream",
     "text": [
      "ENTER THE FIRST NUMBER: 3\n",
      "ENTER THE SECOND NUMBER: 10\n",
      "L.C.M OF 3 and 10 is:  30.0\n"
     ]
    }
   ],
   "source": [
    "# Python Program to find the LCM using GCD\n",
    "def compute_gcd(x,y):\n",
    "    if x>y:\n",
    "        smaller=y\n",
    "    else:\n",
    "        smaller=x\n",
    "    for i in range(1,smaller+1):\n",
    "        if(x%i==0) and (y%i==0):\n",
    "            hcf=i\n",
    "    return hcf\n",
    "def compute_lcm(x,y):\n",
    "    return (x/gcd(x,y))*y\n",
    "num1=int(input(\"ENTER THE FIRST NUMBER: \"))\n",
    "num2=int(input(\"ENTER THE SECOND NUMBER: \"))\n",
    "print(\"L.C.M OF {} and {} is: \".format(num1,num2),compute_lcm(num1,num2))"
   ]
  },
  {
   "cell_type": "code",
   "execution_count": 9,
   "metadata": {},
   "outputs": [
    {
     "name": "stdout",
     "output_type": "stream",
     "text": [
      "ENTER THE NUMBER:10\n",
      "1\n",
      "2\n",
      "5\n",
      "10\n"
     ]
    }
   ],
   "source": [
    "#Python function to Find the Factors of a Number\n",
    "num=int(input(\"ENTER THE NUMBER:\"))\n",
    "for i in range(1,num+1):\n",
    "    if num%i==0:\n",
    "        print(i)"
   ]
  },
  {
   "cell_type": "code",
   "execution_count": 3,
   "metadata": {},
   "outputs": [
    {
     "name": "stdout",
     "output_type": "stream",
     "text": [
      "ENTER THE FIRST ELEMENT:5\n",
      "ENTER THE SECOND ELEMENT:9\n",
      "ENTER THE OPERATION YOU WANT TO PERFORM:\n",
      "1.ADDITION\n",
      "2.SUBTRACTION\n",
      "3.MULTIPLICATION\n",
      "4.DIVISON\n",
      "2\n",
      "SUBTRACTION= -4.0\n",
      "3\n",
      "MULTIPLICATION= 45.0\n",
      "1\n",
      "ADDITION= 14.0\n",
      "8\n",
      "OPTION NOT FOUND\n"
     ]
    }
   ],
   "source": [
    "#wap to make a simple calculator\n",
    "num1=float(input(\"ENTER THE FIRST ELEMENT:\"))\n",
    "num2=float(input(\"ENTER THE SECOND ELEMENT:\"))\n",
    "print(\"ENTER THE OPERATION YOU WANT TO PERFORM:\")\n",
    "print(\"1.ADDITION\")\n",
    "print(\"2.SUBTRACTION\")\n",
    "print(\"3.MULTIPLICATION\")\n",
    "print(\"4.DIVISON\")\n",
    "while(True):\n",
    "    choice=int(input())\n",
    "    if choice==1:\n",
    "        print(\"ADDITION=\",num1+num2)\n",
    "    elif choice==2:\n",
    "        print(\"SUBTRACTION=\",num1-num2)\n",
    "    elif choice==3:\n",
    "        print(\"MULTIPLICATION=\",num1*num2)\n",
    "    elif choice==4:\n",
    "        print(\"DIVISION=\",num1/num2)\n",
    "        break;\n",
    "    else:\n",
    "        print(\"OPTION NOT FOUND\")\n",
    "        break;"
   ]
  },
  {
   "cell_type": "code",
   "execution_count": 5,
   "metadata": {},
   "outputs": [
    {
     "name": "stdout",
     "output_type": "stream",
     "text": [
      "ENTERT THE TOTAL NO. OF TERMS IN THE SEQUENCE:10\n",
      "0\n",
      "1\n",
      "1\n",
      "2\n",
      "3\n",
      "5\n",
      "8\n",
      "13\n",
      "21\n",
      "34\n"
     ]
    }
   ],
   "source": [
    "# Python program to display the Fibonacci sequence\n",
    "def fibonacci_sequence(n):\n",
    "    if n<=1:\n",
    "        return n\n",
    "    else:\n",
    "        return(fibonacci_sequence(n-2)+fibonacci_sequence(n-1))\n",
    "term=int(input(\"ENTERT THE TOTAL NO. OF TERMS IN THE SEQUENCE:\"))\n",
    "if term<=0:\n",
    "    print(\"ENTER A POSITIVE NUMBER\")\n",
    "else:\n",
    "    for i in range(term):\n",
    "        print(fibonacci_sequence(i))"
   ]
  },
  {
   "cell_type": "code",
   "execution_count": 11,
   "metadata": {},
   "outputs": [
    {
     "name": "stdout",
     "output_type": "stream",
     "text": [
      "ENTER THE NUMBER:5\n",
      "FACTORIAL OF 5 IS= 120\n"
     ]
    }
   ],
   "source": [
    "#Python Program to Find Factorial of Number Using Recursion\n",
    "def factorial(n):\n",
    "    if n==1:\n",
    "        return n\n",
    "    else:\n",
    "        return n*factorial(n-1)\n",
    "num=int(input(\"ENTER THE NUMBER:\"))\n",
    "if num<0:\n",
    "    print(\"FACTORIAL DOESN'T EXIST\")\n",
    "elif num==0:\n",
    "    print(\"FACTORIAL OF 0 IS 1\")\n",
    "else:\n",
    "    print(\"FACTORIAL OF\",num, \"IS=\",factorial(num))\n",
    "    "
   ]
  }
 ],
 "metadata": {
  "kernelspec": {
   "display_name": "Python 3",
   "language": "python",
   "name": "python3"
  }
 },
 "nbformat": 4,
 "nbformat_minor": 2
}
