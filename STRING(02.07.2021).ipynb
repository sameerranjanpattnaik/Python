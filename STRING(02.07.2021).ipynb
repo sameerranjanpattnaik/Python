{
 "cells": [
  {
   "cell_type": "code",
   "execution_count": 9,
   "metadata": {},
   "outputs": [
    {
     "name": "stdout",
     "output_type": "stream",
     "text": [
      "ENTER THE STRING:\n",
      "mama\n",
      "THE STRING IS NOT PALINDROME\n"
     ]
    }
   ],
   "source": [
    "#Python Program to Check Whether a String is Palindrome or Not\n",
    "string=input(\"ENTER THE STRING:\\n\")\n",
    "string=string.casefold()\n",
    "reversed_string=reversed(string)\n",
    "if list(reversed_string)==list(string):\n",
    "    print(\"THE STRING IS PALINDROME\")\n",
    "else:\n",
    "    print(\"THE STRING IS NOT PALINDROME\")"
   ]
  },
  {
   "cell_type": "code",
   "execution_count": 15,
   "metadata": {},
   "outputs": [
    {
     "name": "stdout",
     "output_type": "stream",
     "text": [
      "ENTER THE STRING\n",
      "g'gg;grr.,greg][r\n",
      "ggggrrgregr\n"
     ]
    }
   ],
   "source": [
    "#Python Program to Remove Punctuations From a String\n",
    "punctuations = '''!()-[]{};:'\"\\,<>./?@#$%^&*_~'''\n",
    "string=input(\"ENTER THE STRING\\n\")\n",
    "no_punct=''\n",
    "for char in string:\n",
    "    if char not in punctuations:\n",
    "        no_punct=no_punct+char\n",
    "print(no_punct)\n"
   ]
  },
  {
   "cell_type": "code",
   "execution_count": 27,
   "metadata": {},
   "outputs": [
    {
     "name": "stdout",
     "output_type": "stream",
     "text": [
      "ENTER THE STRING\n",
      "jhvjb\n",
      "['jhvjb']\n",
      "THE SORTED STRING IS:\n",
      "\n",
      "jhvjb\n"
     ]
    }
   ],
   "source": [
    "#Python Program to Sort Words in Alphabetic Order\n",
    "string=input(\"ENTER THE STRING\\n\")\n",
    "strings=[string.lower() for string in string.split()]\n",
    "strings.sort()\n",
    "print(strings)\n",
    "print(\"THE SORTED STRING IS:\\n\")\n",
    "for string in strings:\n",
    "    print(string)"
   ]
  },
  {
   "cell_type": "code",
   "execution_count": 40,
   "metadata": {},
   "outputs": [
    {
     "name": "stdout",
     "output_type": "stream",
     "text": [
      "ENTER THE STRING\n",
      "kbjhvvucghj\n",
      "{'a': 0, 'e': 0, 'i': 0, 'o': 0, 'u': 1}\n"
     ]
    }
   ],
   "source": [
    "#Python Program to Count the Number of Each Vowel \n",
    "vowel='aeiou'\n",
    "string=input(\"ENTER THE STRING\\n\")\n",
    "string=string.casefold()\n",
    "count={}.fromkeys(vowels,0)\n",
    "for char in string:\n",
    "    if char in count:\n",
    "        count[char]=+1\n",
    "print(count)\n",
    "\n"
   ]
  }
 ],
 "metadata": {
  "kernelspec": {
   "display_name": "Python 3",
   "language": "python",
   "name": "python3"
  },
  "language_info": {
   "codemirror_mode": {
    "name": "ipython",
    "version": 3
   },
   "file_extension": ".py",
   "mimetype": "text/x-python",
   "name": "python",
   "nbconvert_exporter": "python",
   "pygments_lexer": "ipython3",
   "version": "3.7.4"
  }
 },
 "nbformat": 4,
 "nbformat_minor": 2
}
