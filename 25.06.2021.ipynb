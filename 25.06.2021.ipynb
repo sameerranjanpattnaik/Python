{
 "cells": [
  {
   "cell_type": "code",
   "execution_count": 2,
   "metadata": {},
   "outputs": [
    {
     "name": "stdout",
     "output_type": "stream",
     "text": [
      "ENTER THE LOWER LIMIT OF THE INTERVAL: 100\n",
      "ENTER THE UPPER LIMIT OF THE INTERVAL: 600\n",
      "153\n",
      "370\n",
      "371\n",
      "407\n"
     ]
    }
   ],
   "source": [
    "#Python Program to Find Armstrong Number in an Interval\n",
    "lower=int(input(\"ENTER THE LOWER LIMIT OF THE INTERVAL: \"))\n",
    "upper=int(input(\"ENTER THE UPPER LIMIT OF THE INTERVAL: \"))\n",
    "for num in range(lower,upper+1):\n",
    "    sum=0\n",
    "    order=len(str(num))\n",
    "    temp=num\n",
    "    while temp>0:\n",
    "        digit=temp%10\n",
    "        sum=sum+(digit**order)\n",
    "        temp=temp//10\n",
    "    if num==sum:\n",
    "        print(num)\n",
    "                \n"
   ]
  },
  {
   "cell_type": "code",
   "execution_count": 7,
   "metadata": {},
   "outputs": [
    {
     "name": "stdout",
     "output_type": "stream",
     "text": [
      "ENTER ANY CHARACTER: p\n",
      "THE ASCII VALUE OF p IS  112\n"
     ]
    }
   ],
   "source": [
    "#Python Program to Find ASCII Value of Character\n",
    "c=str(input(\"ENTER ANY CHARACTER: \"))\n",
    "print(\"THE ASCII VALUE OF {} IS \".format(c),ord(c))"
   ]
  },
  {
   "cell_type": "code",
   "execution_count": 6,
   "metadata": {},
   "outputs": [
    {
     "name": "stdout",
     "output_type": "stream",
     "text": [
      "ENTER ANY NUMBER GREATER THEN 1: 5\n",
      "The decimal value of 5 is:\n",
      "0b101 in binary.\n",
      "0o5 in octal.\n",
      "0x5 in hexadecimal.\n"
     ]
    }
   ],
   "source": [
    "# Python program to convert decimal into other number systems\n",
    "num=int(input(\"ENTER ANY NUMBER GREATER THEN 1: \"))\n",
    "print(bin(num), \"in binary.\")\n",
    "print(oct(num), \"in octal.\")\n",
    "print(hex(num), \"in hexadecimal.\")\n"
   ]
  },
  {
   "cell_type": "code",
   "execution_count": 10,
   "metadata": {},
   "outputs": [
    {
     "name": "stdout",
     "output_type": "stream",
     "text": [
      "ENTER THE FIRST NUMBER: 4\n",
      "ENTER THE SECOND NUMBER: 16\n",
      "H.C.F OF 4 and 16 is:  4\n"
     ]
    }
   ],
   "source": [
    "#Python Program to Find HCF or GCD\n",
    "def compute_hcf(x,y):\n",
    "    if x>y:\n",
    "        smaller=y\n",
    "    else:\n",
    "        smaller=x\n",
    "    for i in range(1,smaller+1):\n",
    "        if(x%i==0) and (y%i==0):\n",
    "            hcf=i\n",
    "    return hcf\n",
    "num1=int(input(\"ENTER THE FIRST NUMBER: \"))\n",
    "num2=int(input(\"ENTER THE SECOND NUMBER: \"))\n",
    "print(\"H.C.F OF {} and {} is: \".format(num1,num2),compute_hcf(num1,num2))"
   ]
  },
  {
   "cell_type": "code",
   "execution_count": 17,
   "metadata": {},
   "outputs": [
    {
     "name": "stdout",
     "output_type": "stream",
     "text": [
      "The total terms are: 10\n",
      "2 raised to power 0 is 1\n",
      "2 raised to power 1 is 2\n",
      "2 raised to power 2 is 4\n",
      "2 raised to power 3 is 8\n",
      "2 raised to power 4 is 16\n",
      "2 raised to power 5 is 32\n",
      "2 raised to power 6 is 64\n",
      "2 raised to power 7 is 128\n",
      "2 raised to power 8 is 256\n",
      "2 raised to power 9 is 512\n"
     ]
    }
   ],
   "source": [
    "terms = 10\n",
    "\n",
    "# Uncomment code below to take input from the user\n",
    "# terms = int(input(\"How many terms? \"))\n",
    "\n",
    "# use anonymous function\n",
    "result =list(map(lambda x: 2 ** x, range(terms)))\n",
    "\n",
    "print(\"The total terms are:\",terms)\n",
    "for i in range(terms):\n",
    "   print(\"2 raised to power\",i,\"is\",result[i])"
   ]
  },
  {
   "cell_type": "code",
   "execution_count": 21,
   "metadata": {},
   "outputs": [
    {
     "name": "stdout",
     "output_type": "stream",
     "text": [
      "ENTER THE NO. OF TERMS: 10\n",
      "ENTER THE BASE NUMBER: 2\n",
      "THE POWERS OF 2 IS :  1\n",
      "THE POWERS OF 2 IS :  2\n",
      "THE POWERS OF 2 IS :  4\n",
      "THE POWERS OF 2 IS :  8\n",
      "THE POWERS OF 2 IS :  16\n",
      "THE POWERS OF 2 IS :  32\n",
      "THE POWERS OF 2 IS :  64\n",
      "THE POWERS OF 2 IS :  128\n",
      "THE POWERS OF 2 IS :  256\n",
      "THE POWERS OF 2 IS :  512\n"
     ]
    }
   ],
   "source": [
    "terms=int(input(\"ENTER THE NO. OF TERMS: \"))\n",
    "y=int(input(\"ENTER THE BASE NUMBER: \"))\n",
    "result=list(map(lambda x:y**x,range(terms)))\n",
    "for i in range(terms):\n",
    "    print(\"THE POWERS OF {} IS : \".format(y),result[i])"
   ]
  },
  {
   "cell_type": "code",
   "execution_count": 24,
   "metadata": {},
   "outputs": [
    {
     "name": "stdout",
     "output_type": "stream",
     "text": [
      "Numbers divisible by 13 are [65, 39, 221]\n"
     ]
    }
   ],
   "source": [
    "my_list = [12, 65, 54, 39, 102, 339, 221,]\n",
    "\n",
    "# use anonymous function to filter\n",
    "result = list(filter(lambda x: (x % 13 == 0), my_list))\n",
    "\n",
    "# display the result\n",
    "print(\"Numbers divisible by 13 are\",result)"
   ]
  }
 ],
 "metadata": {
  "kernelspec": {
   "display_name": "Python 3",
   "language": "python",
   "name": "python3"
  },
  "language_info": {
   "codemirror_mode": {
    "name": "ipython",
    "version": 3
   },
   "file_extension": ".py",
   "mimetype": "text/x-python",
   "name": "python",
   "nbconvert_exporter": "python",
   "pygments_lexer": "ipython3",
   "version": "3.7.4"
  }
 },
 "nbformat": 4,
 "nbformat_minor": 2
}
