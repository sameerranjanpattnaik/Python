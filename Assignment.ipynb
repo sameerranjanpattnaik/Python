{
 "cells": [
  {
   "cell_type": "code",
   "execution_count": null,
   "metadata": {},
   "outputs": [],
   "source": [
    "print(\"Wap to print table of n,where n is entered by the user\")\n",
    "n=int(input(\" Enter the number : \"))\n",
    "print(\"Multiplication Table of : \")\n",
    "for i in range(1,11):\n",
    " print(n,\"x\",i,\"=\",n*i)\n",
    "print(\"\\n\")"
   ]
  },
  {
   "cell_type": "code",
   "execution_count": null,
   "metadata": {},
   "outputs": [],
   "source": [
    "print(\"WAP to print sum of n natural numbers, where n is entered by the user\")\n",
    "number = int(input(\"Please Enter any Number: \"))\n",
    "total = 0\n",
    "\n",
    "for value in range(1, number + 1):\n",
    "    total = total + value\n",
    "\n",
    "print(\"The Sum of Natural Numbers from 1 to {0} =  {1}\".format(number, total))\n",
    "print(\"\\n\")\n",
    "\n",
    "       "
   ]
  },
  {
   "cell_type": "code",
   "execution_count": null,
   "metadata": {},
   "outputs": [],
   "source": [
    "print(\"WAP to print the factorial of the given number, where number is entered by the user.\") \n",
    "n=int(input(\"ENTER THE NUMBER - \"))\n",
    "factorial=1\n",
    "for i in range(1,n+1):\n",
    "    factorial=factorial*i\n",
    "print(\"THE FACTORIAL OF THE NO. IS-\",factorial)\n",
    "print(\"\\n\")"
   ]
  },
  {
   "cell_type": "code",
   "execution_count": null,
   "metadata": {},
   "outputs": [],
   "source": [
    "print(\"WAP to input sales of the month and calculate the average sales of that month\")\n",
    "n=int(input(\"enter the no of sales of the month\"))\n",
    "a=[]\n",
    "print(\"Enter the values of sales\")\n",
    "for i in range(1,n+1):\n",
    "    b=int(input(\"\"))\n",
    "    a.append(b)\n",
    "avg=sum(a)/n\n",
    "print(avg)\n",
    "print(\"\\n\")"
   ]
  },
  {
   "cell_type": "code",
   "execution_count": null,
   "metadata": {},
   "outputs": [],
   "source": []
  },
  {
   "cell_type": "code",
   "execution_count": null,
   "metadata": {},
   "outputs": [],
   "source": []
  },
  {
   "cell_type": "code",
   "execution_count": null,
   "metadata": {},
   "outputs": [],
   "source": []
  },
  {
   "cell_type": "code",
   "execution_count": null,
   "metadata": {},
   "outputs": [],
   "source": []
  }
 ],
 "metadata": {
  "kernelspec": {
   "display_name": "Python 3",
   "language": "python",
   "name": "python3"
  },
  "language_info": {
   "codemirror_mode": {
    "name": "ipython",
    "version": 3
   },
   "file_extension": ".py",
   "mimetype": "text/x-python",
   "name": "python",
   "nbconvert_exporter": "python",
   "pygments_lexer": "ipython3",
   "version": "3.7.4"
  }
 },
 "nbformat": 4,
 "nbformat_minor": 2
}
