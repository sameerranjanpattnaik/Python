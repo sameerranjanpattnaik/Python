{
 "cells": [
  {
   "cell_type": "code",
   "execution_count": 1,
   "metadata": {},
   "outputs": [
    {
     "name": "stdout",
     "output_type": "stream",
     "text": [
      "ENTER THE PRINCIPAL AMOUNT: 1000\n",
      "ENTER THE RATE OF INTEREST: 3\n",
      "ENTER THE TIME PERIOD: 6\n",
      "THE SIMPLE INTEREST=  180.0\n"
     ]
    }
   ],
   "source": [
    "#wap for simple interest\n",
    "p=int(input(\"ENTER THE PRINCIPAL AMOUNT: \"))\n",
    "r=int(input(\"ENTER THE RATE OF INTEREST: \"))\n",
    "t=int(input(\"ENTER THE TIME PERIOD: \"))\n",
    "simple_interest=(p*r*t)/100\n",
    "print(\"THE SIMPLE INTEREST= \",simple_interest)"
   ]
  },
  {
   "cell_type": "code",
   "execution_count": 2,
   "metadata": {},
   "outputs": [
    {
     "name": "stdout",
     "output_type": "stream",
     "text": [
      "ENTER THE LENGTH OF THE SQUARE: 25\n",
      "AREA OF THE SQUARE=  625\n"
     ]
    }
   ],
   "source": [
    "#wap to find the area of a square\n",
    "length=int(input(\"ENTER THE LENGTH OF THE SQUARE: \"))\n",
    "print(\"AREA OF THE SQUARE= \",length*length)"
   ]
  },
  {
   "cell_type": "code",
   "execution_count": 3,
   "metadata": {},
   "outputs": [
    {
     "name": "stdout",
     "output_type": "stream",
     "text": [
      "6 4 56 100 1222 9996 2284 658 32354 35168 222356 "
     ]
    }
   ],
   "source": [
    "#wap to find the even numbers in a list\n",
    "list=[5,9,6,3,4,33,56,25,75,100,1222,9996,2284,658,32354,35168,35165,222356]\n",
    "for i in list:\n",
    "    if i%2==0:\n",
    "     print(i,end = \" \")"
   ]
  },
  {
   "cell_type": "code",
   "execution_count": 4,
   "metadata": {},
   "outputs": [
    {
     "name": "stdout",
     "output_type": "stream",
     "text": [
      "the story of my life\n"
     ]
    }
   ],
   "source": [
    "#wap to search a book by its author name.Book can be represented as dictionary\n",
    "def get_book(author):\n",
    "    for i,value in books.items():\n",
    "        if author == value:\n",
    "            return i\n",
    "    return -1\n",
    "books={'the story of my life': 'helen keller', \"Gitanjali\": 'Rabindranath tagore' , \"My Experiments With Truth\": 'Mahatma gandhi', \"Wings of fire\": 'APJ Abdulkalam', \"Half Girlfriend\" : 'Chetan Bhagat'}\n",
    "print(get_book('helen keller'))"
   ]
  },
  {
   "cell_type": "code",
   "execution_count": 8,
   "metadata": {},
   "outputs": [
    {
     "name": "stdout",
     "output_type": "stream",
     "text": [
      "ENTER THE LOWER LIMIT OF THE INTERVAL:9\n",
      "ENTER THE UPPER LIMIT OF THE INTERVAL:19\n",
      "11\n",
      "13\n",
      "17\n",
      "19\n"
     ]
    }
   ],
   "source": [
    "#wap to print all prime numbers in an interval\n",
    "lower=int(input(\"ENTER THE LOWER LIMIT OF THE INTERVAL:\"))\n",
    "upper=int(input(\"ENTER THE UPPER LIMIT OF THE INTERVAL:\"))\n",
    "for i in range(lower,upper+1):\n",
    "    for j in range(2,i):\n",
    "        if i>2:\n",
    "            if (i%j==0):\n",
    "                break\n",
    "    else:\n",
    "                print(i)"
   ]
  },
  {
   "cell_type": "code",
   "execution_count": 6,
   "metadata": {},
   "outputs": [
    {
     "name": "stdout",
     "output_type": "stream",
     "text": [
      "ENTER THE FIRST ELEMENT:99\n",
      "ENTER THE SECOND ELEMENT:356\n",
      "ENTER THE THIRD ELEMENT:64651561484\n",
      "THE MAXIMUM VALUE IS 64651561484\n"
     ]
    }
   ],
   "source": [
    "#wap to find the maximum of three numbers\n",
    "a=int(input(\"ENTER THE FIRST ELEMENT:\"))\n",
    "b=int(input(\"ENTER THE SECOND ELEMENT:\"))\n",
    "c=int(input(\"ENTER THE THIRD ELEMENT:\"))\n",
    "if a>b and a>c:\n",
    "    print(\"THE MAXIMUM VALUE IS {}\".format(a))\n",
    "elif b>a and b>c:\n",
    "    print(\"THE MAXIMUM VALUE IS {}\".format(b))\n",
    "else:\n",
    "    print(\"THE MAXIMUM VALUE IS {}\".format(c))"
   ]
  },
  {
   "cell_type": "code",
   "execution_count": 7,
   "metadata": {},
   "outputs": [
    {
     "name": "stdout",
     "output_type": "stream",
     "text": [
      "ENTER THE ELEMENT TO BE SEARCHED:6\n",
      "Element not found\n"
     ]
    }
   ],
   "source": [
    "#wap to implement linear search with or without using function\n",
    "def linear_Search(list1, n, key):  \n",
    "  \n",
    "     \n",
    "    for i in range(0, n):  \n",
    "        if (list1[i] == key):  \n",
    "            return i  \n",
    "    return -1  \n",
    "  \n",
    "  \n",
    "list1 = [1 ,3, 5, 4, 7, 9]  \n",
    "key =int(input(\"ENTER THE ELEMENT TO BE SEARCHED:\"))\n",
    "  \n",
    "n = len(list1)  \n",
    "res = linear_Search(list1, n, key)  \n",
    "if(res == -1):  \n",
    "    print(\"Element not found\")  \n",
    "else:  \n",
    "    print(\"Element found at index: \", res)  "
   ]
  }
 ],
 "metadata": {
  "kernelspec": {
   "display_name": "Python 3",
   "language": "python",
   "name": "python3"
  },
  "language_info": {
   "codemirror_mode": {
    "name": "ipython",
    "version": 3
   },
   "file_extension": ".py",
   "mimetype": "text/x-python",
   "name": "python",
   "nbconvert_exporter": "python",
   "pygments_lexer": "ipython3",
   "version": "3.7.4"
  }
 },
 "nbformat": 4,
 "nbformat_minor": 2
}
