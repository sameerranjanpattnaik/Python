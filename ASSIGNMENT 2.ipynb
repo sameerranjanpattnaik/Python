{
 "cells": [
  {
   "cell_type": "code",
   "execution_count": 3,
   "metadata": {},
   "outputs": [
    {
     "name": "stdout",
     "output_type": "stream",
     "text": [
      "ENTER THE DISTANCE IN KILOMETERS: 5\n",
      "DISTANCE IN MILES=  3.1\n"
     ]
    }
   ],
   "source": [
    "#Python Program to Convert Kilometers to Miles\n",
    "\n",
    "dist=int(input(\"ENTER THE DISTANCE IN KILOMETERS: \"))\n",
    "print(\"DISTANCE IN MILES= \",dist*0.62)"
   ]
  },
  {
   "cell_type": "code",
   "execution_count": 2,
   "metadata": {},
   "outputs": [
    {
     "name": "stdout",
     "output_type": "stream",
     "text": [
      "ENTER THE TEMPERATURE IN CELSIUS:10\n",
      "TEMPERATURE IN FARENHIT=  50.0\n"
     ]
    }
   ],
   "source": [
    "#Python Program to Convert Celsius To Fahrenheit\n",
    "temp=int(input(\"ENTER THE TEMPERATURE IN CELSIUS:\"))\n",
    "print(\"TEMPERATURE IN FARENHIT= \",(temp*1.8)+32)"
   ]
  },
  {
   "cell_type": "code",
   "execution_count": 6,
   "metadata": {},
   "outputs": [
    {
     "name": "stdout",
     "output_type": "stream",
     "text": [
      "ENTER A NO.: -9\n",
      "THE NUMBER IS NEGATIVE\n"
     ]
    }
   ],
   "source": [
    "#Python Program to Check if a Number is Positive, Negative or 0\n",
    "n=int(input(\"ENTER A NO.: \"))\n",
    "if n>0:\n",
    "    print(\"THE NUMBER IS POSITIVE\")\n",
    "elif n<0:\n",
    "    print(\"THE NUMBER IS NEGATIVE\")\n",
    "else:\n",
    "    print(\"IT IS 0\")"
   ]
  },
  {
   "cell_type": "code",
   "execution_count": 8,
   "metadata": {},
   "outputs": [
    {
     "name": "stdout",
     "output_type": "stream",
     "text": [
      "ENTER ANY NUMBER: 9\n",
      "THE NUMBER IS ODD\n"
     ]
    }
   ],
   "source": [
    "#Python Program to Check if a Number is Odd or Even\n",
    "n=int(input(\"ENTER ANY NUMBER: \"))\n",
    "if n%2==0:\n",
    "    print(\"THE NUMBER IS EVEN\")\n",
    "else:\n",
    "    print(\"THE NUMBER IS ODD\")\n"
   ]
  },
  {
   "cell_type": "code",
   "execution_count": 10,
   "metadata": {},
   "outputs": [
    {
     "name": "stdout",
     "output_type": "stream",
     "text": [
      "ENTER THE YEAR: 2021\n",
      "2021 IS NOT A LEAP YEAR\n"
     ]
    }
   ],
   "source": [
    "#Python Program to Check Leap Year\n",
    "year=int(input(\"ENTER THE YEAR: \"))\n",
    "if (year%4==0):\n",
    "    print(\"{} IS A LEAP YEAR\".format(year))\n",
    "else:\n",
    "    print(\"{} IS NOT A LEAP YEAR\".format(year))\n",
    "    "
   ]
  },
  {
   "cell_type": "code",
   "execution_count": 12,
   "metadata": {},
   "outputs": [
    {
     "name": "stdout",
     "output_type": "stream",
     "text": [
      "ENTER THE FIRST NUMBER: 4\n",
      "ENTER THE SECOND NUMBER: 0\n",
      "ENTER THE THIRD NUMBER: 9\n",
      "9 IS THE LARGEST NUMBER\n"
     ]
    }
   ],
   "source": [
    "#Python Program to Find the Largest Among Three Numbers\n",
    "a=int(input(\"ENTER THE FIRST NUMBER: \"))\n",
    "b=int(input(\"ENTER THE SECOND NUMBER: \"))\n",
    "c=int(input(\"ENTER THE THIRD NUMBER: \"))\n",
    "if(a>b and a>c):\n",
    "    print(\"{} IS THE LARGEST NUMBER\".format(a))\n",
    "elif(b>a and b>c):\n",
    "    print(\"{} IS THE LARGEST NUMBER\".format(b))\n",
    "else:\n",
    "    print(\"{} IS THE LARGEST NUMBER\".format(c))\n"
   ]
  },
  {
   "cell_type": "code",
   "execution_count": 18,
   "metadata": {},
   "outputs": [
    {
     "name": "stdout",
     "output_type": "stream",
     "text": [
      "ENTER THE NUMBER: 9\n",
      "9 IS NOT A PRIME NUMBER\n"
     ]
    }
   ],
   "source": [
    "#Write a Python Program to check if a number is prime or not\n",
    "n=int(input(\"ENTER THE NUMBER: \"))\n",
    "t=0\n",
    "for i in range(2, n):\n",
    "    if (n%i==0):\n",
    "        t=1\n",
    "if (t==1):\n",
    "    print(\"{} IS NOT A PRIME NUMBER\".format(n))\n",
    "else:\n",
    "    print(\"{} IS A PRIME NUMBER\".format(n))"
   ]
  },
  {
   "cell_type": "code",
   "execution_count": 36,
   "metadata": {},
   "outputs": [
    {
     "name": "stdout",
     "output_type": "stream",
     "text": [
      "ENTER THE UPPER LIMIT OF THE INTERVAL: 8\n",
      "ENTER THE LOWER LIMIT OF THE INTERVAL: 10\n"
     ]
    }
   ],
   "source": [
    "#Python program to display all the prime numbers within an interval\n",
    "x=int(input(\"ENTER THE UPPER LIMIT OF THE INTERVAL: \"))\n",
    "y=int(input(\"ENTER THE LOWER LIMIT OF THE INTERVAL: \"))\n",
    "for i in range(x,y+1):\n",
    "    for j in range(2,i):\n",
    "        if(i>2):\n",
    "            if(i%j==0):\n",
    "                 break\n",
    "    else:\n",
    "        print(i)"
   ]
  },
  {
   "cell_type": "code",
   "execution_count": 41,
   "metadata": {},
   "outputs": [
    {
     "name": "stdout",
     "output_type": "stream",
     "text": [
      "ENTER THE NUMBER: 5\n",
      "THE FACTORIAL OF 5 IS 120\n"
     ]
    }
   ],
   "source": [
    "#Python program to find the factorial of a number.\n",
    "n=int(input(\"ENTER THE NUMBER: \"))\n",
    "fact=1\n",
    "for i in range(1,n+1):\n",
    "    fact=i*fact\n",
    "print(\"THE FACTORIAL OF {} IS\".format(n),fact)"
   ]
  },
  {
   "cell_type": "code",
   "execution_count": 42,
   "metadata": {},
   "outputs": [
    {
     "name": "stdout",
     "output_type": "stream",
     "text": [
      " Enter the number : 5\n",
      "Multiplication Table of 5 : \n",
      "5 x 1 = 5\n",
      "5 x 2 = 10\n",
      "5 x 3 = 15\n",
      "5 x 4 = 20\n",
      "5 x 5 = 25\n",
      "5 x 6 = 30\n",
      "5 x 7 = 35\n",
      "5 x 8 = 40\n",
      "5 x 9 = 45\n",
      "5 x 10 = 50\n"
     ]
    }
   ],
   "source": [
    "#Python Program to Display the multiplication Table\n",
    "n=int(input(\" Enter the number : \"))\n",
    "print(\"Multiplication Table of {} : \".format(n))\n",
    "for i in range(1,11):\n",
    " print(n,\"x\",i,\"=\",n*i)"
   ]
  },
  {
   "cell_type": "code",
   "execution_count": 5,
   "metadata": {},
   "outputs": [
    {
     "name": "stdout",
     "output_type": "stream",
     "text": [
      "Enter a number:9\n",
      "Fibonacci series for 9 --\n",
      "0\n",
      "1\n",
      "1\n",
      "2\n",
      "3\n",
      "5\n",
      "8\n",
      "13\n",
      "21\n",
      "34\n"
     ]
    }
   ],
   "source": [
    "#Python Program to Print the Fibonacci sequence\\\n",
    "num = int(input(\"Enter a number:\"))\n",
    "a = 0\n",
    "b = 1\n",
    "print (\"Fibonacci series for {} --\".format(num))\n",
    "if num == 0:\n",
    "    print (a)\n",
    "elif num == 1:\n",
    "    print (b)\n",
    "else:\n",
    "    print (a)\n",
    "    print (b)\n",
    "    for i in range(2, num + 1):\n",
    "        c = a + b\n",
    "        a,b=b,c\n",
    "        print (c)\n"
   ]
  },
  {
   "cell_type": "code",
   "execution_count": null,
   "metadata": {},
   "outputs": [],
   "source": [
    "#Python Program to Check Armstrong Number (for 3 digits)\n"
   ]
  }
 ],
 "metadata": {
  "kernelspec": {
   "display_name": "Python 3",
   "language": "python",
   "name": "python3"
  },
  "language_info": {
   "codemirror_mode": {
    "name": "ipython",
    "version": 3
   },
   "file_extension": ".py",
   "mimetype": "text/x-python",
   "name": "python",
   "nbconvert_exporter": "python",
   "pygments_lexer": "ipython3",
   "version": "3.7.4"
  }
 },
 "nbformat": 4,
 "nbformat_minor": 2
}
